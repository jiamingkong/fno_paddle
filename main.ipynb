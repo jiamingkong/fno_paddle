{
 "cells": [
  {
   "cell_type": "markdown",
   "metadata": {},
   "source": [
    "# 用PaddlePaddle复现Fourier Neural Operator\n",
    "\n",
    "## 简介\n",
    "\n",
    "Fourier Neural Operator 模型是Fourier Neural Operator for Parametric Partial Differential Equations一文中提出的模型。该模型尝试去学习基于傅里叶变换的有限维算子的参数化，去数值逼近一些偏微分方程。该模型比起其他尝试用深度学习求解复杂的偏微分方程数值解的模型相比，具备以下几个很重要的特点：\n",
    "\n",
    "- 训练比较容易，可以用低分辨率的数据去训练，而直接在高分辨率的数据上推理。\n",
    "- 与PINN不一样，在方程的参数、初始条件变动的时候，不需要额外的训练。\n",
    "\n",
    "Fourier Neural Operator是算子学习类的模型，也被证明了有更好的泛化能力，在分辨率、方程参数、初始条件变动的时候，并不需要重新训练。因此该模型具备较好的落地能力。\n",
    "\n",
    "## 模型的基本原理\n",
    "\n",
    "神经网络算子(Neural Operators)是一类机器学习范式，要理解傅里叶神经网络算子，我们要先理解什么是神经网络算子。\n",
    "\n",
    "#### 什么是神经网络算子\n",
    "\n",
    "假设我们现在有一个偏微分方程写成了算子模式：\n",
    "\n",
    "$$\n",
    "(\\mathcal{L}_a u) (x) = f(x), x\\in D\\\\\n",
    "u(x) =0, x\\in \\partial D\n",
    "$$\n",
    "\n",
    "其中$\\mathcal{L}$ 是一个算子，而a是算子的参数，我们现在想求出u(x)。使用格林函数法，我们可以构造出一个格林函数$G_a(x,y)$，使得：\n",
    "\n",
    "$$\n",
    "u(x) = \\int_D G_a(x,y) f(y) dy\n",
    "$$\n",
    "\n",
    "这个格林函数可以被视作一个核函数(Kernel function)，举一个具体的例子，假设$G_a$已经被我们学习出来了，那么我们要计算$u(0)$的时候，我们就可以计算：\n",
    "\n",
    "$$\n",
    "u(0) = \\int_D G_a(0,y) f(y) dy\n",
    "$$\n",
    "\n",
    "这个计算过程可以被视作一个卷积运算，因此我们可以用神经网络来模拟这个核函数$G_a$，也就可以用神经网络来求解算子方程$(\\mathcal{L}_a u )(x)=f(x)$了。\n",
    "\n",
    "#### 什么是傅里叶神经网络算子\n",
    "\n",
    "FNO和上述的NO相比，多了一个步骤就是将核函数$G_a$通过傅里叶变换变成了频域，然后再通过一个神经网络去学习这个频域的核函数。这个频域的核函数可以被视作一个频域的卷积核。傅里叶空间里每一个点都是有良好定义的，只与不同的频谱有关，与实际离散空间的离散无关。因此模型能在低分辨率的离散空间上训练，而且在高分辨率的离散空间上推理。\n",
    "\n",
    "仍然参考上述的符号，我们可以将傅里叶神经网络算子的计算过程写成：\n",
    "\n",
    "$$\n",
    "(\\mathcal{L}_a u) (x) = \\mathcal{F}^{-1}(\\mathcal{F}(\\mathcal{L}_a) \\cdot \\mathcal{F}(u))(x), x\\in D\n",
    "$$\n",
    "\n",
    "其中，$\\mathcal{F}$是傅里叶变换，$\\mathcal{F}^{-1}$是傅里叶逆变换，$\\cdot$是卷积运算。\n",
    "\n",
    "## 模型的结构\n",
    "\n",
    "FNO模型的结构如下图所示：\n",
    "\n",
    "- 给定输入a(x)的数据，先通过卷积层将其提取成高维的特征空间。\n",
    "- 通过多层的傅里叶算子积分层\n",
    "- 将输出投影会原始的空间，输出u(x)。\n",
    "\n",
    "其中，傅里叶算子积分层的计算过程如下：\n",
    "\n",
    "- 给定输入v(x)，通过傅里叶变换得到频域的v(k)。\n",
    "- 将v(k)和b(k)进行卷积运算，得到频域的输出w(k)。\n",
    "- 将w(k)通过傅里叶逆变换得到空间域的输出w(x)。\n",
    "- 添加残差连接，w(x) = w(x) + v(x)，得到最终的输出。\n",
    "\n",
    "模型定义在`neuralop/models/tfno.py`中可以找到。"
   ]
  },
  {
   "cell_type": "markdown",
   "metadata": {
    "tags": []
   },
   "source": [
    "## 训练流程\n",
    "\n",
    "下面的代码定义了一个简单的训练流程。使用官方代码给出的Darcy flow 数据集，我们尝试训练一个FNO模型来预测二维的达西流问题。这个问题的偏微分方程为：\n",
    "\n",
    "$$\n",
    "-\\nabla \\cdot (k(x) \\nabla u(x)) = f(x),  x\\in D\n",
    "$$\n",
    "\n",
    "其中，x是位置，u(x) 是流体的压力，k(x)是渗透率场，f(x) 是压力的函数。达西流问题可以被用来描述多孔介质的流动、弹性材料和热传导。在这里，我们定义了一个二维的平面区域$D = [0,1] \\times [0,1]$，我们希望得到一个模型，可以在给定k渗透率场的情况下，估算出u流体压力。"
   ]
  },
  {
   "cell_type": "code",
   "execution_count": 1,
   "metadata": {
    "execution": {
     "iopub.execute_input": "2023-03-22T02:30:27.254698Z",
     "iopub.status.busy": "2023-03-22T02:30:27.253235Z",
     "iopub.status.idle": "2023-03-22T02:30:27.260048Z",
     "shell.execute_reply": "2023-03-22T02:30:27.258781Z",
     "shell.execute_reply.started": "2023-03-22T02:30:27.254648Z"
    },
    "scrolled": true,
    "tags": []
   },
   "outputs": [],
   "source": [
    "import sys\n",
    "sys.path.append('/home/aistudio/neuralop')\n",
    "\n",
    "import warnings\n",
    "warnings.filterwarnings(\"ignore\")"
   ]
  },
  {
   "cell_type": "markdown",
   "metadata": {},
   "source": [
    "#### 数据示例\n",
    "\n",
    "在下面的单元格中，我们展示了一些训练数据的可视化，方便理解：\n",
    "\n",
    "\n",
    "##### 定义dataloader"
   ]
  },
  {
   "cell_type": "code",
   "execution_count": 2,
   "metadata": {
    "execution": {
     "iopub.execute_input": "2023-03-22T02:30:27.262848Z",
     "iopub.status.busy": "2023-03-22T02:30:27.262338Z",
     "iopub.status.idle": "2023-03-22T02:30:31.522995Z",
     "shell.execute_reply": "2023-03-22T02:30:31.521393Z",
     "shell.execute_reply.started": "2023-03-22T02:30:27.262819Z"
    },
    "scrolled": true,
    "tags": []
   },
   "outputs": [
    {
     "name": "stderr",
     "output_type": "stream",
     "text": [
      "/opt/conda/envs/python35-paddle120-env/lib/python3.7/site-packages/matplotlib/__init__.py:107: DeprecationWarning: Using or importing the ABCs from 'collections' instead of from 'collections.abc' is deprecated, and in 3.8 it will stop working\r\n",
      "  from collections import MutableMapping\r\n",
      "/opt/conda/envs/python35-paddle120-env/lib/python3.7/site-packages/matplotlib/rcsetup.py:20: DeprecationWarning: Using or importing the ABCs from 'collections' instead of from 'collections.abc' is deprecated, and in 3.8 it will stop working\r\n",
      "  from collections import Iterable, Mapping\r\n",
      "/opt/conda/envs/python35-paddle120-env/lib/python3.7/site-packages/matplotlib/colors.py:53: DeprecationWarning: Using or importing the ABCs from 'collections' instead of from 'collections.abc' is deprecated, and in 3.8 it will stop working\r\n",
      "  from collections import Sized\r\n"
     ]
    },
    {
     "name": "stdout",
     "output_type": "stream",
     "text": [
      "UnitGaussianNormalizer init on 1000, reducing over [0, 1, 2, 3], samples of shape [1, 16, 16].\r\n",
      "   Mean and std of shape [1, 1, 1], eps=1e-05\r\n",
      "Loading test db at resolution 32 with 50 samples and batch-size=32\r\n"
     ]
    },
    {
     "name": "stderr",
     "output_type": "stream",
     "text": [
      "W0322 10:30:31.491677   289 gpu_resources.cc:61] Please NOTE: device: 0, GPU Compute Capability: 7.0, Driver API Version: 11.2, Runtime API Version: 11.2\r\n",
      "W0322 10:30:31.496592   289 gpu_resources.cc:91] device: 0, cuDNN Version: 8.2.\r\n"
     ]
    }
   ],
   "source": [
    "from neuralop.datasets.darcy import load_darcy_flow_small\n",
    "import paddle\n",
    "import matplotlib.pyplot as plt\n",
    "import sys\n",
    "from neuralop.models import TFNO\n",
    "from neuralop import Trainer\n",
    "from neuralop.datasets import load_darcy_flow_small\n",
    "from neuralop.utils import count_params\n",
    "from neuralop import LpLoss, H1Loss\n",
    "\n",
    "train_loader, test_loaders, output_encoder = load_darcy_flow_small(\n",
    "    n_train=1000, batch_size=32,\n",
    "    test_resolutions=[16, 32], n_tests=[100, 50], test_batch_sizes=[32, 32],\n",
    ")\n",
    "\n",
    "train_dataset = train_loader.dataset\n"
   ]
  },
  {
   "cell_type": "markdown",
   "metadata": {},
   "source": [
    "##### 可视化\n",
    "\n",
    "左侧的图中，k(x)的黑色区域就是可以渗透的地方，白色为不可渗透的区域。右侧是目标结果，颜色越亮，压力越大。"
   ]
  },
  {
   "cell_type": "code",
   "execution_count": 3,
   "metadata": {
    "execution": {
     "iopub.execute_input": "2023-03-22T02:30:31.525863Z",
     "iopub.status.busy": "2023-03-22T02:30:31.525042Z",
     "iopub.status.idle": "2023-03-22T02:30:32.030590Z",
     "shell.execute_reply": "2023-03-22T02:30:32.029222Z",
     "shell.execute_reply.started": "2023-03-22T02:30:31.525805Z"
    },
    "scrolled": true,
    "tags": []
   },
   "outputs": [
    {
     "name": "stderr",
     "output_type": "stream",
     "text": [
      "/opt/conda/envs/python35-paddle120-env/lib/python3.7/site-packages/matplotlib/cbook/__init__.py:2349: DeprecationWarning: Using or importing the ABCs from 'collections' instead of from 'collections.abc' is deprecated, and in 3.8 it will stop working\r\n",
      "  if isinstance(obj, collections.Iterator):\r\n",
      "/opt/conda/envs/python35-paddle120-env/lib/python3.7/site-packages/matplotlib/cbook/__init__.py:2366: DeprecationWarning: Using or importing the ABCs from 'collections' instead of from 'collections.abc' is deprecated, and in 3.8 it will stop working\r\n",
      "  return list(data) if isinstance(data, collections.MappingView) else data\r\n",
      "/opt/conda/envs/python35-paddle120-env/lib/python3.7/site-packages/matplotlib/image.py:425: DeprecationWarning: np.asscalar(a) is deprecated since NumPy v1.16, use a.item() instead\r\n",
      "  a_min = np.asscalar(a_min.astype(scaled_dtype))\r\n",
      "/opt/conda/envs/python35-paddle120-env/lib/python3.7/site-packages/matplotlib/image.py:426: DeprecationWarning: np.asscalar(a) is deprecated since NumPy v1.16, use a.item() instead\r\n",
      "  a_max = np.asscalar(a_max.astype(scaled_dtype))\r\n"
     ]
    },
    {
     "data": {
      "image/png": "[encoded data removed]",
      "text/plain": [
       "<Figure size 700x700 with 6 Axes>"
      ]
     },
     "metadata": {},
     "output_type": "display_data"
    }
   ],
   "source": [
    "test_samples = test_loaders[32].dataset\n",
    "\n",
    "fig = plt.figure(figsize=(7, 7))\n",
    "for index in range(3):\n",
    "    data = test_samples[index]\n",
    "    # Input x\n",
    "    x = data[\"x\"]\n",
    "    # Ground-truth\n",
    "    y = data[\"y\"]\n",
    "\n",
    "    ax = fig.add_subplot(3, 3, index * 3 + 1)\n",
    "    ax.imshow(x[0], cmap=\"gray\")\n",
    "    if index == 0:\n",
    "        ax.set_title(\"k(x)\")\n",
    "    plt.xticks([], [])\n",
    "    plt.yticks([], [])\n",
    "\n",
    "    ax = fig.add_subplot(3, 3, index * 3 + 2)\n",
    "    ax.imshow(y.squeeze())\n",
    "    if index == 0:\n",
    "        ax.set_title(\"u(x)\")\n",
    "    plt.xticks([], [])\n",
    "    plt.yticks([], [])"
   ]
  },
  {
   "cell_type": "markdown",
   "metadata": {},
   "source": [
    "##### 训练模型\n",
    "\n",
    "如果你使用的是CPU实例，下面的过程可能需要大概5分钟。"
   ]
  },
  {
   "cell_type": "code",
   "execution_count": 4,
   "metadata": {
    "execution": {
     "iopub.execute_input": "2023-03-22T02:30:32.033454Z",
     "iopub.status.busy": "2023-03-22T02:30:32.033015Z",
     "iopub.status.idle": "2023-03-22T02:30:50.148086Z",
     "shell.execute_reply": "2023-03-22T02:30:50.146824Z",
     "shell.execute_reply.started": "2023-03-22T02:30:32.033412Z"
    },
    "scrolled": true,
    "tags": []
   },
   "outputs": [
    {
     "name": "stdout",
     "output_type": "stream",
     "text": [
      "Training on regular inputs (no multi-grid patching).\r\n",
      "Training on 1000 samples\r\n",
      "Testing on [50, 50] samples         on resolutions [16, 32].\r\n",
      "[0] time=2.91, avg_loss=20.9791, train_err=0.4196, 16_h1=0.2937, 16_l2=0.2345, 32_h1=0.4540, 32_l2=0.2514\r\n",
      "[3] time=0.86, avg_loss=9.7800, train_err=0.1956, 16_h1=0.1898, 16_l2=0.1464, 32_h1=0.3499, 32_l2=0.1774\r\n",
      "[6] time=0.80, avg_loss=8.2632, train_err=0.1653, 16_h1=0.1688, 16_l2=0.1232, 32_h1=0.3204, 32_l2=0.1506\r\n",
      "[9] time=0.85, avg_loss=7.6710, train_err=0.1534, 16_h1=0.1622, 16_l2=0.1177, 32_h1=0.3076, 32_l2=0.1475\r\n",
      "[12] time=0.73, avg_loss=7.0439, train_err=0.1409, 16_h1=0.1574, 16_l2=0.1138, 32_h1=0.2992, 32_l2=0.1444\r\n",
      "[15] time=0.70, avg_loss=6.6445, train_err=0.1329, 16_h1=0.1558, 16_l2=0.1097, 32_h1=0.2907, 32_l2=0.1274\r\n",
      "[18] time=0.74, avg_loss=6.2937, train_err=0.1259, 16_h1=0.1522, 16_l2=0.1076, 32_h1=0.2945, 32_l2=0.1376\r\n"
     ]
    }
   ],
   "source": [
    "model = TFNO(n_modes=(16, 16), hidden_channels=32, projection_channels=64)\n",
    "\n",
    "optimizer = paddle.optimizer.Adam(learning_rate=1e-3 , parameters=model.parameters())\n",
    "\n",
    "# cosine annealing scheduler\n",
    "scheduler = paddle.optimizer.lr.CosineAnnealingDecay(learning_rate=1e-3, T_max=1000)\n",
    "\n",
    "loss = LpLoss(d=2, p=2)\n",
    "h1_loss = H1Loss(d=2)\n",
    "\n",
    "\n",
    "\n",
    "train_loss = h1_loss\n",
    "eval_losses = {\"h1\": h1_loss, \"l2\": loss}\n",
    "\n",
    "trainer = Trainer(model, n_epochs=20,\n",
    "                  mg_patching_levels=0,\n",
    "                  wandb_log=False,\n",
    "                  log_test_interval=3,\n",
    "                  verbose=True)\n",
    "\n",
    "\n",
    "trainer.train(train_loader, test_loaders,\n",
    "              output_encoder,\n",
    "              model, \n",
    "              optimizer,\n",
    "              scheduler, \n",
    "              regularizer=False, \n",
    "              training_loss=train_loss,\n",
    "              eval_losses=eval_losses)"
   ]
  },
  {
   "cell_type": "markdown",
   "metadata": {},
   "source": [
    "##### 使用训练好的模型进行预测\n",
    "\n",
    "注意，我们这里用来测试的数据，空间分辨率是$32*32$，比训练用的$16*16$要高，这个设定是为了展示FNO模型对分辨率的不敏感。从结果中可以看出，模型能给出很好的结果，而且计算速度非常快。"
   ]
  },
  {
   "cell_type": "code",
   "execution_count": 5,
   "metadata": {
    "execution": {
     "iopub.execute_input": "2023-03-22T02:30:50.149829Z",
     "iopub.status.busy": "2023-03-22T02:30:50.149510Z",
     "iopub.status.idle": "2023-03-22T02:30:50.615834Z",
     "shell.execute_reply": "2023-03-22T02:30:50.614669Z",
     "shell.execute_reply.started": "2023-03-22T02:30:50.149801Z"
    },
    "scrolled": true,
    "tags": []
   },
   "outputs": [
    {
     "data": {
      "image/png": "[encoded data removed]",
      "text/plain": [
       "<Figure size 700x700 with 9 Axes>"
      ]
     },
     "metadata": {},
     "output_type": "display_data"
    }
   ],
   "source": [
    "\n",
    "\n",
    "test_samples = test_loaders[32].dataset\n",
    "fig = plt.figure(figsize=(7, 7))\n",
    "for index in range(3):\n",
    "    data = test_samples[index]\n",
    "    # Input x\n",
    "    x = data['x']\n",
    "    # Ground-truth\n",
    "    y = data['y']\n",
    "    # Model prediction\n",
    "    out = model(x.unsqueeze(0).cuda()).cpu()\n",
    "\n",
    "    ax = fig.add_subplot(3, 3, index*3 + 1)\n",
    "    ax.imshow(x[0], cmap='gray')\n",
    "    if index == 0:\n",
    "        ax.set_title('Input k(x)')\n",
    "    plt.xticks([], [])\n",
    "    plt.yticks([], [])\n",
    "\n",
    "    ax = fig.add_subplot(3, 3, index*3 + 2)\n",
    "    ax.imshow(y.squeeze())\n",
    "    if index == 0:\n",
    "        ax.set_title('Ground-truth u(x)')\n",
    "    plt.xticks([], [])\n",
    "    plt.yticks([], [])\n",
    "\n",
    "    ax = fig.add_subplot(3, 3, index*3 + 3)\n",
    "    ax.imshow(out.squeeze().detach().numpy())\n",
    "    if index == 0:\n",
    "        ax.set_title('Model prediction')\n",
    "    plt.xticks([], [])\n",
    "    plt.yticks([], [])\n",
    "\n",
    "plt.tight_layout()\n",
    "fig.show()"
   ]
  },
  {
   "cell_type": "markdown",
   "metadata": {},
   "source": [
    "## 复现心得\n",
    "\n",
    "本次复现相对容易，理解了模型原理后，参考官方给出的代码改成paddle的过程并不复杂。主要遇到的障碍是paddle对复数算子的支持。\n",
    "\n",
    "#### 1. `create_parameter`不支持复数参数\n",
    "\n",
    "paddle中，模型层的参数需要单独的`create_parameter`声明，目前该函数不支持复数。所以我们采取了一个折中的办法，就是创建两份参数，一份是实部，一份是虚部。\n",
    "\n",
    "```python\n",
    "class FactorizedTensor(nn.Layer):\n",
    "    def __init__(self, shape, init_scale):\n",
    "        super().__init__()\n",
    "        self.shape = shape\n",
    "        self.init_scale = init_scale\n",
    "        self.real = self.create_parameter(\n",
    "            shape=shape, default_initializer=nn.initializer.XavierNormal()\n",
    "        )\n",
    "        self.imag = self.create_parameter(\n",
    "            shape=shape, default_initializer=nn.initializer.XavierNormal()\n",
    "        )\n",
    "\n",
    "    def __repr__(self):\n",
    "        return f\"FactorizedTensor(shape={self.shape})\"\n",
    "\n",
    "    @property\n",
    "    def data(self):\n",
    "        return paddle.complex(self.real, self.imag)\n",
    "```\n",
    "\n",
    "具体计算使用的时候，使用FactorizedTensor.data进行取出。\n",
    "\n",
    "#### 2. `einsum` 对复数求梯度有误\n",
    "\n",
    "当前的版本下（2.4.0），einsum算子在输入输出有复数的情况下，求梯度是有误的。目前我们采取的方法是手动拆分了复数计算的过程为两个实数计算，最后手动累加。\n",
    "\n",
    "基于公式：\n",
    "$$\n",
    "(a+bi)(c+di) = (ac - bd) + (ad + bc) i\n",
    "$$\n",
    "\n",
    "我们使用了如下的折中方案：\n",
    "\n",
    "原来的写法：\n",
    "\n",
    "```python\n",
    "x = paddle.einsum(eq, x, weight)\n",
    "```\n",
    "\n",
    "新的写法：\n",
    "\n",
    "```python\n",
    "o1_real = paddle.einsum(eq, x.real(), weight_real) - paddle.einsum(\n",
    "        eq, x.imag(), weight_imag\n",
    "    )\n",
    "o1_imag = paddle.einsum(eq, x.imag(), weight_real) + paddle.einsum(\n",
    "    eq, x.real(), weight_imag\n",
    ")\n",
    "x = paddle.complex(o1_real, o1_imag)\n",
    "```"
   ]
  },
  {
   "cell_type": "code",
   "execution_count": null,
   "metadata": {
    "scrolled": true
   },
   "outputs": [],
   "source": []
  }
 ],
 "metadata": {
  "kernelspec": {
   "display_name": "Python 3",
   "language": "python",
   "name": "py35-paddle1.2.0"
  },
  "language_info": {
   "codemirror_mode": {
    "name": "ipython",
    "version": 3
   },
   "file_extension": ".py",
   "mimetype": "text/x-python",
   "name": "python",
   "nbconvert_exporter": "python",
   "pygments_lexer": "ipython3",
   "version": "3.7.4"
  }
 },
 "nbformat": 4,
 "nbformat_minor": 4
}
