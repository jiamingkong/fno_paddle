{
 "cells": [
  {
   "attachments": {},
   "cell_type": "markdown",
   "metadata": {},
   "source": [
    "# 用PaddlePaddle复现Fourier Neural Operator\n",
    "\n"
   ]
  },
  {
   "attachments": {},
   "cell_type": "markdown",
   "metadata": {},
   "source": [
    "## 训练流程（当前仍有bug）\n",
    "\n",
    "下面的代码定义了一个简单的训练流程。使用官方代码给出的Darcy flow 数据集，我们尝试训练一个FNO模型。训练过程中，我们使用了Adam优化器。"
   ]
  },
  {
   "attachments": {},
   "cell_type": "markdown",
   "metadata": {},
   "source": [
    "## 当前的bug的定位\n",
    "\n",
    "目前我们认为上述训练流程的错误基本上集中在`FactorizedFourierLayer`中。我们认为这个层的实现有问题，但是我们目前还没有找到问题的根源。我们希望能够得到一些帮助。\n",
    "\n",
    "### 1. 只训练这一层后面的参数\n",
    "\n",
    "我们发现，如果我们只训练这一层后面的参数，那么模型的训练效果会正常。这个现象表明，这一层的梯度计算是有问题的。"
   ]
  },
  {
   "cell_type": "code",
   "execution_count": null,
   "metadata": {},
   "outputs": [],
   "source": []
  }
 ],
 "metadata": {
  "kernelspec": {
   "display_name": "paddle",
   "language": "python",
   "name": "python3"
  },
  "language_info": {
   "name": "python",
   "version": "3.9.6"
  },
  "orig_nbformat": 4
 },
 "nbformat": 4,
 "nbformat_minor": 2
}
